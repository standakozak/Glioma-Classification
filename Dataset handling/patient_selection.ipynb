{
 "cells": [
  {
   "cell_type": "markdown",
   "metadata": {},
   "source": [
    "# Random Patient Selection\n",
    "\n",
    "Because of the large data size, smaller balanced sample of glioblastoma and astrocytoma patients was randomly selected.\n",
    "\n",
    "This script creates `UCSF-PDGM-metadata_updated.csv`, a modified metadata file containing information, if the patient was randomly selected or not."
   ]
  },
  {
   "cell_type": "code",
   "execution_count": 1,
   "metadata": {},
   "outputs": [],
   "source": [
    "import pandas as pd"
   ]
  },
  {
   "cell_type": "code",
   "execution_count": 3,
   "metadata": {},
   "outputs": [],
   "source": [
    "metadata_file = r\"../UCSF-PDGM-metadata_v2.csv\"\n",
    "\n",
    "metadata_df = pd.read_csv(metadata_file)"
   ]
  },
  {
   "cell_type": "code",
   "execution_count": 4,
   "metadata": {},
   "outputs": [
    {
     "data": {
      "text/plain": [
       "'\\nid_nums_to_ignore = [\"315\", \"278\", \"175\", \"138\", \"181\", \"289\"]\\nids_to_ignore = [\"UCSF-PDGM-\" + _id for _id in id_nums_to_ignore]\\nmetadata_df = metadata_df[~metadata_df[\"ID\"].str.replace(\"UCSF-PDGM-\", \"\").isin(id_nums_to_ignore)]\\n\\nassert len(metadata_df) == 495\\n\\n'"
      ]
     },
     "execution_count": 4,
     "metadata": {},
     "output_type": "execute_result"
    }
   ],
   "source": [
    "# Run this code for new data\n",
    "\"\"\"\n",
    "id_nums_to_ignore = [\"315\", \"278\", \"175\", \"138\", \"181\", \"289\"]\n",
    "ids_to_ignore = [\"UCSF-PDGM-\" + _id for _id in id_nums_to_ignore]\n",
    "metadata_df = metadata_df[~metadata_df[\"ID\"].str.replace(\"UCSF-PDGM-\", \"\").isin(id_nums_to_ignore)]\n",
    "\n",
    "assert len(metadata_df) == 495\n",
    "\n",
    "\"\"\""
   ]
  },
  {
   "cell_type": "code",
   "execution_count": 5,
   "metadata": {},
   "outputs": [],
   "source": [
    "gbma = metadata_df[metadata_df[\"Final pathologic diagnosis (WHO 2021)\"] == \"Glioblastoma, IDH-wildtype\"]\n",
    "astro = metadata_df[metadata_df[\"Final pathologic diagnosis (WHO 2021)\"] == \"Astrocytoma, IDH-mutant\"]\n"
   ]
  },
  {
   "cell_type": "markdown",
   "metadata": {},
   "source": [
    "## Patient sampling\n"
   ]
  },
  {
   "cell_type": "code",
   "execution_count": 6,
   "metadata": {},
   "outputs": [],
   "source": [
    "astro_samples = 30\n",
    "gbma_samples = astro_samples"
   ]
  },
  {
   "cell_type": "code",
   "execution_count": 7,
   "metadata": {},
   "outputs": [],
   "source": [
    "sampled_gbma = gbma.sample(n=gbma_samples + 1, random_state=1)\n",
    "sampled_astro = astro.sample(n=astro_samples, random_state=1)\n",
    "\n",
    "sampled_gbma = sampled_gbma[~sampled_gbma[\"ID\"].str.contains(\"289\")]\n"
   ]
  },
  {
   "cell_type": "code",
   "execution_count": 13,
   "metadata": {},
   "outputs": [
    {
     "name": "stdout",
     "output_type": "stream",
     "text": [
      "                ID Sex  Age at MRI  WHO CNS Grade  \\\n",
      "291  UCSF-PDGM-331   M          46              3   \n",
      "435  UCSF-PDGM-476   F          22              2   \n",
      "238  UCSF-PDGM-272   M          35              3   \n",
      "269  UCSF-PDGM-308   M          45              2   \n",
      "488  UCSF-PDGM-529   M          34              4   \n",
      "428  UCSF-PDGM-469   F          43              3   \n",
      "367  UCSF-PDGM-407   M          42              4   \n",
      "265  UCSF-PDGM-304   M          52              3   \n",
      "251  UCSF-PDGM-285   F          60              3   \n",
      "228  UCSF-PDGM-261   F          29              2   \n",
      "229  UCSF-PDGM-262   M          44              3   \n",
      "217  UCSF-PDGM-250   M          44              2   \n",
      "403  UCSF-PDGM-444   M          32              2   \n",
      "209  UCSF-PDGM-242   M          37              2   \n",
      "226  UCSF-PDGM-259   M          28              2   \n",
      "400  UCSF-PDGM-441   F          26              3   \n",
      "114  UCSF-PDGM-132   M          29              4   \n",
      "38   UCSF-PDGM-044   M          38              4   \n",
      "490  UCSF-PDGM-531   M          36              4   \n",
      "404  UCSF-PDGM-445   M          48              3   \n",
      "266  UCSF-PDGM-305   F          36              2   \n",
      "199  UCSF-PDGM-232   M          22              2   \n",
      "458  UCSF-PDGM-499   M          34              3   \n",
      "223  UCSF-PDGM-256   F          28              2   \n",
      "219  UCSF-PDGM-252   F          35              2   \n",
      "218  UCSF-PDGM-251   M          36              3   \n",
      "248  UCSF-PDGM-282   F          48              3   \n",
      "398  UCSF-PDGM-439   M          38              2   \n",
      "386  UCSF-PDGM-427   M          51              4   \n",
      "268  UCSF-PDGM-307   M          31              2   \n",
      "\n",
      "    Final pathologic diagnosis (WHO 2021) MGMT status  MGMT index  1p/19q  \\\n",
      "291               Astrocytoma, IDH-mutant    positive        10.0  intact   \n",
      "435               Astrocytoma, IDH-mutant         NaN         NaN  intact   \n",
      "238               Astrocytoma, IDH-mutant    negative         NaN  intact   \n",
      "269               Astrocytoma, IDH-mutant         NaN         NaN  intact   \n",
      "488               Astrocytoma, IDH-mutant    positive        14.0  intact   \n",
      "428               Astrocytoma, IDH-mutant         NaN         NaN  intact   \n",
      "367               Astrocytoma, IDH-mutant    positive        17.0  intact   \n",
      "265               Astrocytoma, IDH-mutant         NaN         NaN  intact   \n",
      "251               Astrocytoma, IDH-mutant         NaN         NaN  intact   \n",
      "228               Astrocytoma, IDH-mutant         NaN         NaN  intact   \n",
      "229               Astrocytoma, IDH-mutant    negative         0.0  intact   \n",
      "217               Astrocytoma, IDH-mutant         NaN         NaN  intact   \n",
      "403               Astrocytoma, IDH-mutant         NaN         NaN  intact   \n",
      "209               Astrocytoma, IDH-mutant         NaN         NaN  intact   \n",
      "226               Astrocytoma, IDH-mutant         NaN         NaN  intact   \n",
      "400               Astrocytoma, IDH-mutant         NaN         NaN  intact   \n",
      "114               Astrocytoma, IDH-mutant    positive        12.0  intact   \n",
      "38                Astrocytoma, IDH-mutant    positive         6.0     NaN   \n",
      "490               Astrocytoma, IDH-mutant    positive        15.0  intact   \n",
      "404               Astrocytoma, IDH-mutant         NaN         NaN  intact   \n",
      "266               Astrocytoma, IDH-mutant         NaN         NaN  intact   \n",
      "199               Astrocytoma, IDH-mutant    positive        11.0  intact   \n",
      "458               Astrocytoma, IDH-mutant         NaN         NaN  intact   \n",
      "223               Astrocytoma, IDH-mutant         NaN         NaN  intact   \n",
      "219               Astrocytoma, IDH-mutant         NaN         NaN  intact   \n",
      "218               Astrocytoma, IDH-mutant         NaN         NaN  intact   \n",
      "248               Astrocytoma, IDH-mutant         NaN         NaN  intact   \n",
      "398               Astrocytoma, IDH-mutant         NaN         NaN  intact   \n",
      "386               Astrocytoma, IDH-mutant    positive        16.0  intact   \n",
      "268               Astrocytoma, IDH-mutant         NaN         NaN  intact   \n",
      "\n",
      "                  IDH  1-dead 0-alive      OS     EOR Biopsy prior to imaging  \\\n",
      "291      IDH1 p.R132H               0  1640.0     STR                      No   \n",
      "435      IDH1 p.R132H               0  1677.0     STR                      No   \n",
      "238  IDH2 p.Arg172Trp               0   574.0     STR                      No   \n",
      "269      IDH1 p.R132H               0   720.0  biopsy                      No   \n",
      "488      IDH1 p.R132S               0   112.0     GTR                      No   \n",
      "428      IDH1 p.R132H               0  1338.0     STR                     Yes   \n",
      "367      IDH1 p.R132H               0   165.0     GTR                      No   \n",
      "265      IDH1 p.R132H               0  1176.0     STR                      No   \n",
      "251      IDH1 p.R132H               0   714.0     GTR                      No   \n",
      "228     mutated (NOS)               0   805.0     STR                      No   \n",
      "229      IDH1 p.R132S               0  1190.0     STR                      No   \n",
      "217     mutated (NOS)               0    14.0     STR                      No   \n",
      "403      IDH1 p.R132H               0  1730.0     STR                      No   \n",
      "209     mutated (NOS)               0  1833.0     GTR                      No   \n",
      "226     mutated (NOS)               1  1421.0     STR                      No   \n",
      "400      IDH1 p.R132H               0   375.0     GTR                      No   \n",
      "114      IDH1 p.R132C               0  1139.0     STR                      No   \n",
      "38      mutated (NOS)               0   930.0     STR                      No   \n",
      "490      IDH1 p.R132H               0    21.0     STR                     Yes   \n",
      "404      IDH1 p.R132H               0   672.0     STR                      No   \n",
      "266      IDH1 p.R132H               0   706.0     GTR                     Yes   \n",
      "199      IDH1 p.R132H               1  1612.0     STR                      No   \n",
      "458      IDH1 p.R132H               0    12.0     GTR                      No   \n",
      "223      IDH1 p.R132H               0  1513.0     GTR                      No   \n",
      "219      IDH1 p.R132G               0  1595.0     STR                      No   \n",
      "218      IDH1 p.R132H               0   689.0     STR                      No   \n",
      "248      IDH1 p.R132H               0   763.0     GTR                      No   \n",
      "398      IDH1 p.R132H               0  1022.0     GTR                      No   \n",
      "386      IDH1 p.R132H               0   222.0     GTR                      No   \n",
      "268      IDH1 p.R132H               0   740.0     STR                     Yes   \n",
      "\n",
      "          BraTS21 ID BraTS21 Segmentation Cohort BraTS21 MGMT Cohort  used  \n",
      "291              NaN                         NaN                 NaN  True  \n",
      "435              NaN                         NaN                 NaN  True  \n",
      "238              NaN                         NaN                 NaN  True  \n",
      "269              NaN                         NaN                 NaN  True  \n",
      "488  BraTS2021_00604                    Training            Training  True  \n",
      "428              NaN                         NaN                 NaN  True  \n",
      "367              NaN                         NaN                 NaN  True  \n",
      "265              NaN                         NaN                 NaN  True  \n",
      "251              NaN                         NaN                 NaN  True  \n",
      "228              NaN                         NaN                 NaN  True  \n",
      "229              NaN                         NaN                 NaN  True  \n",
      "217              NaN                         NaN                 NaN  True  \n",
      "403              NaN                         NaN                 NaN  True  \n",
      "209              NaN                         NaN                 NaN  True  \n",
      "226              NaN                         NaN                 NaN  True  \n",
      "400              NaN                         NaN                 NaN  True  \n",
      "114  BraTS2021_00525                    Training            Training  True  \n",
      "38   BraTS2021_00059                    Training            Training  True  \n",
      "490  BraTS2021_00612                    Training            Training  True  \n",
      "404              NaN                         NaN                 NaN  True  \n",
      "266              NaN                         NaN                 NaN  True  \n",
      "199              NaN                         NaN                 NaN  True  \n",
      "458              NaN                         NaN                 NaN  True  \n",
      "223              NaN                         NaN                 NaN  True  \n",
      "219              NaN                         NaN                 NaN  True  \n",
      "218              NaN                         NaN                 NaN  True  \n",
      "248              NaN                         NaN                 NaN  True  \n",
      "398              NaN                         NaN                 NaN  True  \n",
      "386  BraTS2021_00656                    Training            Training  True  \n",
      "268              NaN                         NaN                 NaN  True  \n"
     ]
    }
   ],
   "source": [
    "metadata_df[\"used\"] = False\n",
    "metadata_df.loc[sampled_gbma.index, \"used\"] = True\n",
    "metadata_df.loc[sampled_astro.index, \"used\"] = True\n",
    "\n",
    "\n",
    "print(metadata_df.loc[sampled_astro.index])\n",
    "\n",
    "metadata_df.to_csv(\"../UCSF-PDGM-metadata_updated.csv\", index=None)"
   ]
  },
  {
   "cell_type": "code",
   "execution_count": 14,
   "metadata": {},
   "outputs": [
    {
     "data": {
      "text/plain": [
       "array(['009', '010', '011', '079', '083', '085', '113', '136', '163',\n",
       "       '185', '198', '207', '212', '287', '318', '341', '344', '383',\n",
       "       '398', '422', '426', '461', '466', '492', '497', '503', '511',\n",
       "       '524', '538', '539'], dtype=object)"
      ]
     },
     "execution_count": 14,
     "metadata": {},
     "output_type": "execute_result"
    }
   ],
   "source": [
    "gbma_ids = sampled_gbma.sort_values(\"ID\")[\"ID\"].str.replace(\"UCSF-PDGM-\",\"\").unique()\n",
    "gbma_ids"
   ]
  },
  {
   "cell_type": "code",
   "execution_count": 15,
   "metadata": {},
   "outputs": [
    {
     "data": {
      "text/plain": [
       "array(['044', '132', '232', '242', '250', '251', '252', '256', '259',\n",
       "       '261', '262', '272', '282', '285', '304', '305', '307', '308',\n",
       "       '331', '407', '427', '439', '441', '444', '445', '469', '476',\n",
       "       '499', '529', '531'], dtype=object)"
      ]
     },
     "execution_count": 15,
     "metadata": {},
     "output_type": "execute_result"
    }
   ],
   "source": [
    "astro_ids = sampled_astro.sort_values(\"ID\")[\"ID\"].str.replace(\"UCSF-PDGM-\",\"\").unique()\n",
    "astro_ids"
   ]
  },
  {
   "cell_type": "code",
   "execution_count": 16,
   "metadata": {},
   "outputs": [
    {
     "data": {
      "text/plain": [
       "[]"
      ]
     },
     "execution_count": 16,
     "metadata": {},
     "output_type": "execute_result"
    }
   ],
   "source": [
    "# Check that segmentation directories for all selected patients are present\n",
    "import os\n",
    "\n",
    "all_files = os.listdir(\"../data/raw\")\n",
    "\n",
    "ids = [x.replace(\"UCSF-PDGM-\", \"\").replace(\"_nifti\", \"\")[1:] for x in all_files if \"UCSF-PDGM-\" in x]\n",
    "[x for x in list(astro_ids) + list(gbma_ids) if x not in ids]\n",
    "\n",
    "# should return an empty array"
   ]
  },
  {
   "cell_type": "code",
   "execution_count": null,
   "metadata": {},
   "outputs": [],
   "source": []
  }
 ],
 "metadata": {
  "kernelspec": {
   "display_name": "radiomics",
   "language": "python",
   "name": "python3"
  },
  "language_info": {
   "codemirror_mode": {
    "name": "ipython",
    "version": 3
   },
   "file_extension": ".py",
   "mimetype": "text/x-python",
   "name": "python",
   "nbconvert_exporter": "python",
   "pygments_lexer": "ipython3",
   "version": "3.7.12"
  }
 },
 "nbformat": 4,
 "nbformat_minor": 2
}
