{
 "cells": [
  {
   "cell_type": "markdown",
   "metadata": {},
   "source": [
    "# Radiomic Feature Extraction\n",
    "Uses the segmented images and PyRadiomics library to extract radiomic features. These are saved in `radiomic_features.csv`."
   ]
  },
  {
   "cell_type": "code",
   "execution_count": 1,
   "metadata": {},
   "outputs": [],
   "source": [
    "from radiomics import featureextractor\n",
    "import pandas as pd\n",
    "\n",
    "import os"
   ]
  },
  {
   "cell_type": "markdown",
   "metadata": {},
   "source": [
    "## Get patients"
   ]
  },
  {
   "cell_type": "code",
   "execution_count": 4,
   "metadata": {},
   "outputs": [],
   "source": [
    "output_parent_folder = \"data/extracted\"\n",
    "\n",
    "used_image_suffixes = [\"_T1c_bias\", \"_DWI_bias\", \"_ADC\", \"_DTI_eddy_MD\"]\n",
    "used_label_suffixes =  [\"_tumor_segmentation\", \"_brain_segmentation\"]"
   ]
  },
  {
   "cell_type": "code",
   "execution_count": 5,
   "metadata": {},
   "outputs": [],
   "source": [
    "used_patients_df = pd.read_csv(\"UCSF-PDGM-metadata_updated.csv\").query(\"`used` == True\")\n",
    "gbma = used_patients_df[used_patients_df[\"Final pathologic diagnosis (WHO 2021)\"] == \"Glioblastoma, IDH-wildtype\"]\n",
    "astro = used_patients_df[used_patients_df[\"Final pathologic diagnosis (WHO 2021)\"] == \"Astrocytoma, IDH-mutant\"]"
   ]
  },
  {
   "cell_type": "markdown",
   "metadata": {},
   "source": [
    "## Extractor"
   ]
  },
  {
   "cell_type": "code",
   "execution_count": 6,
   "metadata": {},
   "outputs": [
    {
     "data": {
      "text/plain": [
       "{'minimumROIDimensions': 2,\n",
       " 'minimumROISize': None,\n",
       " 'normalize': False,\n",
       " 'normalizeScale': 1,\n",
       " 'removeOutliers': None,\n",
       " 'resampledPixelSpacing': None,\n",
       " 'interpolator': 'sitkBSpline',\n",
       " 'preCrop': False,\n",
       " 'padDistance': 5,\n",
       " 'distances': [1],\n",
       " 'force2D': False,\n",
       " 'force2Ddimension': 0,\n",
       " 'resegmentRange': None,\n",
       " 'label': 1,\n",
       " 'additionalInfo': True}"
      ]
     },
     "metadata": {},
     "output_type": "display_data"
    },
    {
     "data": {
      "text/plain": [
       "{'firstorder': [],\n",
       " 'glcm': [],\n",
       " 'gldm': [],\n",
       " 'glrlm': [],\n",
       " 'glszm': [],\n",
       " 'ngtdm': [],\n",
       " 'shape': []}"
      ]
     },
     "metadata": {},
     "output_type": "display_data"
    }
   ],
   "source": [
    "extractor = featureextractor.RadiomicsFeatureExtractor()\n",
    "\n",
    "\n",
    "extractor_mask_2_settings = {'label': 2}\n",
    "extractor_mask_2 = featureextractor.RadiomicsFeatureExtractor(additionalInfo=True, **extractor_mask_2_settings)\n",
    "\n",
    "# Default settings\n",
    "display(extractor.settings)\n",
    "display(extractor.enabledFeatures)"
   ]
  },
  {
   "cell_type": "code",
   "execution_count": null,
   "metadata": {},
   "outputs": [],
   "source": [
    "extracted_image_folders = os.listdir(output_parent_folder)\n",
    "features_df = pd.DataFrame()\n",
    "\n",
    "for folder_i, extracted_image_folder in enumerate(extracted_image_folders):\n",
    "    print(f\"\\n({folder_i + 1}/{len(extracted_image_folders)}) Folder {extracted_image_folder}\")\n",
    "    patient_features = pd.Series(dtype=float)\n",
    "    for used_image_suffix in used_image_suffixes:\n",
    "        print(\"Sequence type: \" + used_image_suffix[1:])\n",
    "\n",
    "        for used_label_suffix in used_label_suffixes:\n",
    "            print(\"Segmentation type: \" + used_label_suffix[1:])\n",
    "\n",
    "            image_path = rf\"{output_parent_folder}\\{extracted_image_folder}\\{extracted_image_folder.replace('_nifti', used_image_suffix)}.nii\"\n",
    "            label_path = rf\"{output_parent_folder}\\{extracted_image_folder}\\{extracted_image_folder.replace('_nifti', used_label_suffix)}.nii\"\n",
    "\n",
    "            for used_extractor in (extractor, extractor_mask_2):\n",
    "                try:\n",
    "                    extracted_features = used_extractor.execute(image_path, label_path)\n",
    "                    break\n",
    "                except ValueError as e:\n",
    "                    print(\"One extraction failed, using next extractor\")\n",
    "                    \n",
    "            else:\n",
    "                print(f\"Extraction problem for {extracted_image_folder}\")\n",
    "\n",
    "\n",
    "            used_features = {key: val for key, val in extracted_features.items() if \"diagnostics\" not in key}\n",
    "\n",
    "            feature_series = pd.Series(used_features, dtype=float)\n",
    "            feature_series.index = [col + used_image_suffix + used_label_suffix for col in feature_series.index]\n",
    "\n",
    "            patient_features = patient_features.append(feature_series)\n",
    "\n",
    "\n",
    "    image_id = extracted_image_folder.replace('_nifti', \"\").replace(\"PDGM-0\", \"PDGM-\")\n",
    "    patient_features[\"ID\"] = image_id\n",
    "            \n",
    "    features_df = features_df.append(patient_features, ignore_index=True)\n",
    "\n",
    "features_df.head()"
   ]
  },
  {
   "cell_type": "code",
   "execution_count": 11,
   "metadata": {},
   "outputs": [],
   "source": [
    "gbma_ids = gbma[\"ID\"].unique()\n",
    "astro_ids = astro[\"ID\"].unique()"
   ]
  },
  {
   "cell_type": "code",
   "execution_count": 12,
   "metadata": {},
   "outputs": [],
   "source": [
    "features_df[\"idh_mutated\"] = pd.NA\n",
    "features_df.loc[features_df[\"ID\"].isin(gbma_ids), \"idh_mutated\"] = False\n",
    "features_df.loc[features_df[\"ID\"].isin(astro_ids), \"idh_mutated\"] = True\n",
    "\n",
    "assert features_df[\"idh_mutated\"].isna().sum() == 0"
   ]
  },
  {
   "cell_type": "code",
   "execution_count": 13,
   "metadata": {},
   "outputs": [],
   "source": [
    "features_df.to_csv(\"radiomic_features.csv\", index=False)"
   ]
  }
 ],
 "metadata": {
  "kernelspec": {
   "display_name": "radiomics",
   "language": "python",
   "name": "python3"
  },
  "language_info": {
   "codemirror_mode": {
    "name": "ipython",
    "version": 3
   },
   "file_extension": ".py",
   "mimetype": "text/x-python",
   "name": "python",
   "nbconvert_exporter": "python",
   "pygments_lexer": "ipython3",
   "version": "3.7.12"
  }
 },
 "nbformat": 4,
 "nbformat_minor": 2
}
